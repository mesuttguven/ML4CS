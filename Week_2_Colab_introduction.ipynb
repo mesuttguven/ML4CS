{
  "nbformat": 4,
  "nbformat_minor": 0,
  "metadata": {
    "colab": {
      "provenance": [],
      "collapsed_sections": [],
      "include_colab_link": true
    },
    "kernelspec": {
      "name": "python3",
      "display_name": "Python 3"
    },
    "language_info": {
      "name": "python"
    }
  },
  "cells": [
    {
      "cell_type": "markdown",
      "metadata": {
        "id": "view-in-github",
        "colab_type": "text"
      },
      "source": [
        "<a href=\"https://colab.research.google.com/github/mesuttguven/ML4CS/blob/main/Week_2_Colab_introduction.ipynb\" target=\"_parent\"><img src=\"https://colab.research.google.com/assets/colab-badge.svg\" alt=\"Open In Colab\"/></a>"
      ]
    },
    {
      "cell_type": "markdown",
      "source": [
        "---\n",
        "\n",
        "# ML for Cyber week 2\n",
        "\n",
        "## Mesut GUVEN (Ph.D.)\n",
        "\n",
        "### Google Colab Introduction"
      ],
      "metadata": {
        "id": "-UTIDRgbgvov"
      }
    },
    {
      "cell_type": "markdown",
      "source": [
        "Printing \"Hello World\""
      ],
      "metadata": {
        "id": "oYQYPqR-hD4o"
      }
    },
    {
      "cell_type": "code",
      "execution_count": 2,
      "metadata": {
        "id": "cn0UOLGEgcUS",
        "outputId": "b5e63ab4-f5bd-4795-8503-42b892f8e23a",
        "colab": {
          "base_uri": "https://localhost:8080/"
        }
      },
      "outputs": [
        {
          "output_type": "stream",
          "name": "stdout",
          "text": [
            "--- Now running with i: 8\n",
            "Hello World, x was < 10\n",
            "Result from HelloWorld: 16\n",
            "--- Now running with i: 13\n",
            "Hello World, x was >= 10 but < 20\n",
            "Result from HelloWorld: 26\n",
            "--- Now running with i: 18\n",
            "Hello World, x was >= 10 but < 20\n",
            "Result from HelloWorld: 36\n",
            "--- Now running with i: 23\n",
            "Hello World, x was >= 20\n",
            "Result from HelloWorld: 46\n"
          ]
        }
      ],
      "source": [
        "def HelloWorldXY(x, y):\n",
        "  if (x < 10):\n",
        "    print(\"Hello World, x was < 10\")\n",
        "  elif (x < 20):\n",
        "    print(\"Hello World, x was >= 10 but < 20\")\n",
        "  else:\n",
        "    print(\"Hello World, x was >= 20\")\n",
        "  return x + y\n",
        "\n",
        "for i in range(8, 25, 5):  # i=8, 13, 18, 23 (start, stop, step)\n",
        "  print(\"--- Now running with i: {}\".format(i))\n",
        "  r = HelloWorldXY(i,i)\n",
        "  print(\"Result from HelloWorld: {}\".format(r))"
      ]
    },
    {
      "cell_type": "markdown",
      "source": [
        "\n",
        "\n",
        "Loop, "
      ],
      "metadata": {
        "id": "P3oQjQ5QgqAa"
      }
    },
    {
      "cell_type": "code",
      "source": [
        "print(\"Iterate over the items. `range(2)` is like a list [0,1].\")\n",
        "for i in range(5):\n",
        "  print(i)\n",
        "\n",
        "print(\"Iterate over an actual list.\")\n",
        "for i in [0,1,3]:\n",
        "  print(i)\n",
        "\n",
        "print(\"While works\")\n",
        "i = 0\n",
        "while i < 2:\n",
        "  print(i)\n",
        "  i += 1"
      ],
      "metadata": {
        "id": "L51-BFV4hUwH",
        "colab": {
          "base_uri": "https://localhost:8080/"
        },
        "outputId": "ad5c5c0a-c381-443a-e08c-ecc05cdcba0b"
      },
      "execution_count": 3,
      "outputs": [
        {
          "output_type": "stream",
          "name": "stdout",
          "text": [
            "Iterate over the items. `range(2)` is like a list [0,1].\n",
            "0\n",
            "1\n",
            "2\n",
            "3\n",
            "4\n",
            "Iterate over an actual list.\n",
            "0\n",
            "1\n",
            "3\n",
            "While works\n",
            "0\n",
            "1\n"
          ]
        }
      ]
    },
    {
      "cell_type": "markdown",
      "source": [
        "NumPy and lists"
      ],
      "metadata": {
        "id": "hiq9z2wMhyxK"
      }
    },
    {
      "cell_type": "code",
      "source": [
        "import numpy as np  # Make numpy available using np.\n",
        "\n",
        "# Create a numpy array, and append an element\n",
        "a = np.array([\"Hello\", \"World\"])\n",
        "a = np.append(a, \"Welcome to ML for Cyber\")\n",
        "print(\"Current array: {}\".format(a))\n",
        "print(\"Printing each element\")\n",
        "for i in a:\n",
        "  print(i)\n",
        "\n",
        "print(\"\\nPrinting each element and their index\")\n",
        "for i,e in enumerate(a):\n",
        "  print(\"Index: {}, was: {}\".format(i, e))"
      ],
      "metadata": {
        "id": "LsIhZRKBh2Wn",
        "colab": {
          "base_uri": "https://localhost:8080/"
        },
        "outputId": "799ff6c8-8dde-4ff6-c3b8-8e4d65925730"
      },
      "execution_count": 4,
      "outputs": [
        {
          "output_type": "stream",
          "name": "stdout",
          "text": [
            "Current array: ['Hello' 'World' 'Welcome to ML for Cyber']\n",
            "Printing each element\n",
            "Hello\n",
            "World\n",
            "Welcome to ML for Cyber\n",
            "\n",
            "Printing each element and their index\n",
            "Index: 0, was: Hello\n",
            "Index: 1, was: World\n",
            "Index: 2, was: Welcome to ML for Cyber\n"
          ]
        }
      ]
    },
    {
      "cell_type": "code",
      "source": [
        "print(\"\\nShowing some basic math on arrays\")\n",
        "b = np.array([0,1,4,3,2])\n",
        "print(\"Max: {}\".format(np.max(b)))\n",
        "print(\"Average: {}\".format(np.average(b)))\n",
        "print(\"Max index: {}\".format(np.argmax(b)))"
      ],
      "metadata": {
        "id": "fkDglYdhi8M7",
        "colab": {
          "base_uri": "https://localhost:8080/"
        },
        "outputId": "29d0b2d4-b34e-4044-9c9b-98b190f13de9"
      },
      "execution_count": 5,
      "outputs": [
        {
          "output_type": "stream",
          "name": "stdout",
          "text": [
            "\n",
            "Showing some basic math on arrays\n",
            "Max: 4\n",
            "Average: 2.0\n",
            "Max index: 2\n"
          ]
        }
      ]
    },
    {
      "cell_type": "code",
      "source": [
        "print(\"\\nYou can print the type of anything\")\n",
        "print(\"Type of b: {}, type of b[0]: {}\".format(type(b), type(b[0])))"
      ],
      "metadata": {
        "colab": {
          "base_uri": "https://localhost:8080/"
        },
        "id": "MKfjYoIOjBCF",
        "outputId": "22a103ab-da4d-47b0-e65d-2131dd6eaf40"
      },
      "execution_count": null,
      "outputs": [
        {
          "output_type": "stream",
          "name": "stdout",
          "text": [
            "\n",
            "You can print the type of anything\n",
            "Type of b: <class 'numpy.ndarray'>, type of b[0]: <class 'numpy.int64'>\n"
          ]
        }
      ]
    },
    {
      "cell_type": "code",
      "source": [
        "print(\"\\nUse numpy to create a [2,5] dimension array with random number \\n\")\n",
        "c = np.random.rand(2, 5)\n",
        "print(c)"
      ],
      "metadata": {
        "colab": {
          "base_uri": "https://localhost:8080/"
        },
        "id": "u8XRlHHGjDko",
        "outputId": "ff53c46b-dc1b-45b2-9ff5-b4fd3cc6ee33"
      },
      "execution_count": null,
      "outputs": [
        {
          "output_type": "stream",
          "name": "stdout",
          "text": [
            "\n",
            "Use numpy to create a [2,5] dimension array with random number \n",
            "\n",
            "[[0.82362968 0.96422371 0.58795918 0.51908384 0.84449037]\n",
            " [0.66591082 0.74041946 0.4304468  0.85412061 0.75013615]]\n"
          ]
        }
      ]
    },
    {
      "cell_type": "code",
      "source": [
        "print(\"\\nYou can print the dimensions of arrays\")\n",
        "print(\"Shape of a: {}\".format(a.shape))\n",
        "print(\"Shape of b: {}\".format(b.shape))\n",
        "print(\"Shape of c: {}\".format(c.shape))\n",
        "print(\"...Observe, Python uses both [0,1,2] and (0,1,2) to specify lists\")"
      ],
      "metadata": {
        "colab": {
          "base_uri": "https://localhost:8080/"
        },
        "id": "bC9N-MJpjFOK",
        "outputId": "1475d445-d332-4568-8635-c818b8e776e0"
      },
      "execution_count": null,
      "outputs": [
        {
          "output_type": "stream",
          "name": "stdout",
          "text": [
            "\n",
            "You can print the dimensions of arrays\n",
            "Shape of a: (3,)\n",
            "Shape of b: (5,)\n",
            "Shape of c: (2, 5)\n",
            "...Observe, Python uses both [0,1,2] and (0,1,2) to specify lists\n"
          ]
        }
      ]
    },
    {
      "cell_type": "markdown",
      "source": [
        "COLAB SPECIFICS: \n",
        "\n",
        "Colab is a virtual machine you can access directly. To run commands at the VM's terminal, prefix the line with an exclamation point (!).\n"
      ],
      "metadata": {
        "id": "Zjp-eHvUjgyw"
      }
    },
    {
      "cell_type": "code",
      "source": [
        "print(\"\\nDoing $ls on filesystem\")\n",
        "!ls -l\n",
        "!pwd"
      ],
      "metadata": {
        "colab": {
          "base_uri": "https://localhost:8080/"
        },
        "id": "BB62ODFvjqzg",
        "outputId": "e2b12260-550a-476d-ca4e-d187f5b3b996"
      },
      "execution_count": 6,
      "outputs": [
        {
          "output_type": "stream",
          "name": "stdout",
          "text": [
            "\n",
            "Doing $ls on filesystem\n",
            "total 4\n",
            "drwxr-xr-x 1 root root 4096 Sep 14 13:44 sample_data\n",
            "/content\n"
          ]
        }
      ]
    },
    {
      "cell_type": "code",
      "source": [
        "print(\"Install numpy\")  # Just for test, numpy is actually preinstalled in all Colab instances\n",
        "!pip install numpy"
      ],
      "metadata": {
        "colab": {
          "base_uri": "https://localhost:8080/"
        },
        "id": "RRwj-cH4j08c",
        "outputId": "5c3bfa0c-1751-4463-94c4-33cd192600f0"
      },
      "execution_count": null,
      "outputs": [
        {
          "output_type": "stream",
          "name": "stdout",
          "text": [
            "Install numpy\n",
            "Looking in indexes: https://pypi.org/simple, https://us-python.pkg.dev/colab-wheels/public/simple/\n",
            "Requirement already satisfied: numpy in /usr/local/lib/python3.7/dist-packages (1.21.6)\n"
          ]
        }
      ]
    },
    {
      "cell_type": "markdown",
      "source": [
        " List the path of the current directory (pwd)\n",
        "* Go to / (cd) and list the content (ls -l)"
      ],
      "metadata": {
        "id": "4rnhJoZBkCr-"
      }
    },
    {
      "cell_type": "code",
      "source": [
        "!pwd\n",
        "!cd /\n",
        "!ls -l\n",
        "print(\"Hello\")"
      ],
      "metadata": {
        "id": "Cck9DPV0kDj_",
        "colab": {
          "base_uri": "https://localhost:8080/"
        },
        "outputId": "81645fed-6a99-4c7a-e998-d97bf5434402"
      },
      "execution_count": null,
      "outputs": [
        {
          "output_type": "stream",
          "name": "stdout",
          "text": [
            "/content\n",
            "total 4\n",
            "drwxr-xr-x 1 root root 4096 Sep 14 13:44 sample_data\n",
            "Hello\n"
          ]
        }
      ]
    },
    {
      "cell_type": "markdown",
      "source": [
        "All usage of Colab in this course is completely free or charge. Even GPU usage is provided free of charge for some hours of usage every day.\n",
        "\n",
        "Using GPUs\n",
        "\n",
        "Many of the exercises in the course executes more quickly by using GPU runtime: Runtime | Change runtime type | Hardware accelerator | \n",
        "\n",
        "GPU\n",
        "\n",
        "Some final words on Colab\n",
        "\n",
        "* You execute each cell in order, you can edit & re-execute cells if you want\n",
        "\n",
        "* Sometimes, this could have unintended consequences. For example, if you add a dimension to an array and execute the cell multiple times, then the cells after may not work. If you encounter problem reset your environment:\n",
        "    \n",
        "  Runtime -> Restart runtime... Resets your Python shell\n",
        "    \n",
        "  Runtime -> Restart all runtimes... Will reset the Colab image, and get you back to a 100% clean environment\n",
        "\n",
        "* You can also clear the output in the Colab by doing: \n",
        "  Edit -> Clear all outputs\n",
        " \n",
        "* Save to your Google Drive if you want a copy with your code/output:\n",
        "  File -> Save a copy in Drive...\n"
      ],
      "metadata": {
        "id": "rBDBeZEakaJI"
      }
    },
    {
      "cell_type": "code",
      "source": [
        "import os\n",
        "import glob\n",
        "i = 1\t#counter to name temp file\n",
        "j = 1\t#counter to name final file\n",
        "r = 1\t#counter to delete temp file\n",
        "string_add = 0 #class number (change this depending on the class 0=Assistant 1=Camera 2=Miscellaneous 3=Moble 4=Outlet)\n",
        "\n",
        "#creates the first file in order to put the header in and everything after this is appended into a file\n",
        "\n",
        "\n",
        "#goes through the current directory and looks for every file with .pcap\n",
        "for filename in glob.glob('trace.pcap'):\n",
        "\t#puts tshark output into a temp file\n",
        "\tvariable = str(os.system(\"tshark -r \" + filename + \" -T fields -e ip.len -e ip.hdr_len -e ip.flags -e ip.ttl -e ip.proto -e ip.id -e ip.checksum -e tcp.srcport -e tcp.dstport -e tcp.seq -e tcp.ack -e tcp.window_size_value -e tcp.hdr_len -e tcp.flags -e tcp.len -e tcp.checksum -e tcp.stream -e tcp.urgent_pointer >> zzz\" + str(i)+ \".csv\"))\n",
        "\t\n",
        "\tg = open(\"zzz\"+str(i)+\".csv\", 'a+')\t\n",
        "\tg.write(variable)\n",
        "\tg.close\n",
        "\n",
        "\t\n",
        "\t#opens the temp file and the final file\n",
        "\tl = open(\"zzz\"+str(i)+\".csv\", 'r')\n",
        "\tfinal = open(\"PCAP_TCP\"+str(j)+\".csv\", 'a+')\n",
        "\t\n",
        "\t#goes through the final file and adds the class number at the beginning of every line\t\n",
        "\tfor line in l:\n",
        "\t\tfinal.write(str(string_add)+ '\\t' + line.rstrip() + '\\n')\n",
        "\tfinal.close()\n",
        "\n",
        "\t#removes the temporary files\t\n",
        "\tos.system(\"rm zzz\"+str(r)+\".csv\")\t\n",
        "\tj = j+1\n",
        "\ti = i+1\n",
        "\tr = r+1"
      ],
      "metadata": {
        "id": "cetxvFiP5WjJ"
      },
      "execution_count": null,
      "outputs": []
    },
    {
      "cell_type": "code",
      "source": [
        "pwd"
      ],
      "metadata": {
        "colab": {
          "base_uri": "https://localhost:8080/"
        },
        "id": "ni7KkoEo5dTl",
        "outputId": "87c09d07-f48b-44f8-a5b3-e7c2e748cdbe"
      },
      "execution_count": null,
      "outputs": [
        {
          "output_type": "stream",
          "name": "stdout",
          "text": [
            "/content\n"
          ]
        }
      ]
    }
  ]
}