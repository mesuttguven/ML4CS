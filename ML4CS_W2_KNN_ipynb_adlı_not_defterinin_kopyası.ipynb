{
  "nbformat": 4,
  "nbformat_minor": 0,
  "metadata": {
    "colab": {
      "name": "ML4CS_W2_KNN.ipynb adlı not defterinin kopyası",
      "provenance": [],
      "collapsed_sections": [],
      "include_colab_link": true
    },
    "kernelspec": {
      "name": "python3",
      "display_name": "Python 3"
    },
    "language_info": {
      "name": "python"
    }
  },
  "cells": [
    {
      "cell_type": "markdown",
      "metadata": {
        "id": "view-in-github",
        "colab_type": "text"
      },
      "source": [
        "<a href=\"https://colab.research.google.com/github/mesuttguven/ML4CS/blob/main/ML4CS_W2_KNN_ipynb_adl%C4%B1_not_defterinin_kopyas%C4%B1.ipynb\" target=\"_parent\"><img src=\"https://colab.research.google.com/assets/colab-badge.svg\" alt=\"Open In Colab\"/></a>"
      ]
    },
    {
      "cell_type": "code",
      "execution_count": null,
      "metadata": {
        "id": "_a77boZ75BVh"
      },
      "outputs": [],
      "source": [
        "## knn\n",
        "import numpy as np\n",
        "from collections import Counter\n",
        "\n",
        "k = 5\n",
        "\n",
        "######################################################\n",
        "\n",
        "def euclidean_distance(v1, v2):\n",
        "    return np.sqrt(np.sum(     (v1 - v2) ** 2    ))\n",
        "\n",
        "######################################################\n",
        "\n",
        "X_train = ??    ##   [ 30, [f1, f2, f3, ..., fn]]\n",
        "y_train = ??\n",
        "\n",
        "## X_test  [50, 4]\n",
        "test_x = ??     ##  [f1, f2, f3, ..., fn]\n",
        "\n",
        "######################################################\n",
        "\n",
        "def predict(test_x):\n",
        "    ## calculate distances between test_x and all data samples in X\n",
        "    distances = [ euclidean_distance(test_x, x )  for x in X_train   ]\n",
        "    ## distances is a vector of 30 distances \n",
        "    \n",
        "    ## distances [23, 2,  145, 23  , 5,   17 , 890, ....]  =>>  []\n",
        "               \n",
        "    \n",
        "    ## sort by distance and return the k closest neighbors\n",
        "    ## argsort returns the indices of the k nearest neighbors\n",
        "    k_neighbor_indeces =   np.argsort(   distances   )[:k]\n",
        "    \n",
        "    ## extract labels from y_train\n",
        "    labels = [    y_train[i]  for i in k_neighbor_indeces   ]\n",
        "    ## imagine labels = [1, 1, 1, 0, 1]\n",
        "    \n",
        "\n",
        "    ##select the most common label in labels\n",
        "    most_common_label = Counter(labels).most_common(1)\n",
        "\n",
        "    return most_common_label\n",
        "\n",
        "####################################################################\n",
        "\n",
        "\n",
        "for test_x in X_test:\n",
        "    print(    predict(test_x)   )"
      ]
    },
    {
      "cell_type": "code",
      "source": [
        "import pandas as pd\n",
        "import numpy as np\n",
        "import os\n",
        "from sklearn.metrics import accuracy_score\n",
        "from sklearn.preprocessing import StandardScaler\n",
        "from sklearn.metrics import confusion_matrix\n",
        "from sklearn.metrics import precision_score\n",
        "from sklearn.metrics import recall_score, f1_score\n",
        "\n",
        "df = pd.read_csv('TCP.csv', header=None)\n",
        "X = df.loc[:, 2:].values\n",
        "y = df.loc[:, 1].values\n",
        "le = LabelEncoder()\n",
        "y = le.fit_transform(y) #change class from string to integers\n",
        "\n",
        "## k-folds crodd validation all goes in train sets (hence 0.01)\n",
        "X_train, X_test, y_train, y_test = train_test_split(X, y, test_size=0.01, random_state=0)\n",
        "\n",
        "## feature scaling\n",
        "sc = StandardScaler()\n",
        "sc.fit(X_train)\n",
        "X_train_std = sc.transform(X_train)\n",
        "X_test_std = sc.transform(X_test)\n",
        "\n",
        "##################### KNN ##########################\n",
        "\n",
        "def knn_rc(X_train_std, y_train, X_test_std, y_test):\n",
        "    from sklearn.neighbors import KNeighborsClassifier\n",
        "    knn = KNeighborsClassifier(n_neighbors=5, p=2, metric='minkowski')\n",
        "    knn.fit(X_train_std, y_train)\n",
        "    y_pred = knn.predict(X_test_std)\n",
        "    print('Accuracy: %.2f' % accuracy_score(y_test,   y_pred) )\n",
        "\n",
        "##################### KNN ##########################\n"
      ],
      "metadata": {
        "id": "Xpby9yWv8czw"
      },
      "execution_count": null,
      "outputs": []
    }
  ]
}