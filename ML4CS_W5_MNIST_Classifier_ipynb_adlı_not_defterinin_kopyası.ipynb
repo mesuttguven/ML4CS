{
  "nbformat": 4,
  "nbformat_minor": 0,
  "metadata": {
    "colab": {
      "name": "ML4CS_W5_MNIST_Classifier.ipynb adlı not defterinin kopyası",
      "provenance": [],
      "include_colab_link": true
    },
    "kernelspec": {
      "name": "python3",
      "display_name": "Python 3"
    },
    "language_info": {
      "name": "python"
    },
    "accelerator": "GPU"
  },
  "cells": [
    {
      "cell_type": "markdown",
      "metadata": {
        "id": "view-in-github",
        "colab_type": "text"
      },
      "source": [
        "<a href=\"https://colab.research.google.com/github/mesuttguven/ML4CS/blob/main/ML4CS_W5_MNIST_Classifier_ipynb_adl%C4%B1_not_defterinin_kopyas%C4%B1.ipynb\" target=\"_parent\"><img src=\"https://colab.research.google.com/assets/colab-badge.svg\" alt=\"Open In Colab\"/></a>"
      ]
    },
    {
      "cell_type": "code",
      "execution_count": null,
      "metadata": {
        "colab": {
          "base_uri": "https://localhost:8080/"
        },
        "id": "tVMGgDfUbJMg",
        "outputId": "fbd701d1-6124-418d-8a00-2b5ed99bb551"
      },
      "outputs": [
        {
          "output_type": "stream",
          "name": "stdout",
          "text": [
            "Downloading data from https://storage.googleapis.com/tensorflow/tf-keras-datasets/train-labels-idx1-ubyte.gz\n",
            "32768/29515 [=================================] - 0s 0us/step\n",
            "40960/29515 [=========================================] - 0s 0us/step\n",
            "Downloading data from https://storage.googleapis.com/tensorflow/tf-keras-datasets/train-images-idx3-ubyte.gz\n",
            "26427392/26421880 [==============================] - 0s 0us/step\n",
            "26435584/26421880 [==============================] - 0s 0us/step\n",
            "Downloading data from https://storage.googleapis.com/tensorflow/tf-keras-datasets/t10k-labels-idx1-ubyte.gz\n",
            "16384/5148 [===============================================================================================] - 0s 0us/step\n",
            "Downloading data from https://storage.googleapis.com/tensorflow/tf-keras-datasets/t10k-images-idx3-ubyte.gz\n",
            "4423680/4422102 [==============================] - 0s 0us/step\n",
            "4431872/4422102 [==============================] - 0s 0us/step\n"
          ]
        }
      ],
      "source": [
        "import tensorflow as tf\n",
        "# Helper libraries\n",
        "import math\n",
        "import numpy as np\n",
        "import matplotlib.pyplot as plt\n",
        "\n",
        "fashion_mnist = tf.keras.datasets.fashion_mnist\n",
        "(X_train_full, y_train_full), (X_test, y_test) = fashion_mnist.load_data()"
      ]
    },
    {
      "cell_type": "markdown",
      "source": [
        "Unlike Scikit, Keras loads the data as a 2D array with integer values"
      ],
      "metadata": {
        "id": "2GuLQOdpkI7A"
      }
    },
    {
      "cell_type": "code",
      "source": [
        "print (X_train_full.shape)\n",
        "print (X_train_full[0])"
      ],
      "metadata": {
        "colab": {
          "base_uri": "https://localhost:8080/"
        },
        "id": "8wGozliUbbwu",
        "outputId": "6b55effa-1c29-40ed-fc23-6dd35a9c4770"
      },
      "execution_count": null,
      "outputs": [
        {
          "output_type": "stream",
          "name": "stdout",
          "text": [
            "(60000, 28, 28)\n",
            "[[  0   0   0   0   0   0   0   0   0   0   0   0   0   0   0   0   0   0\n",
            "    0   0   0   0   0   0   0   0   0   0]\n",
            " [  0   0   0   0   0   0   0   0   0   0   0   0   0   0   0   0   0   0\n",
            "    0   0   0   0   0   0   0   0   0   0]\n",
            " [  0   0   0   0   0   0   0   0   0   0   0   0   0   0   0   0   0   0\n",
            "    0   0   0   0   0   0   0   0   0   0]\n",
            " [  0   0   0   0   0   0   0   0   0   0   0   0   1   0   0  13  73   0\n",
            "    0   1   4   0   0   0   0   1   1   0]\n",
            " [  0   0   0   0   0   0   0   0   0   0   0   0   3   0  36 136 127  62\n",
            "   54   0   0   0   1   3   4   0   0   3]\n",
            " [  0   0   0   0   0   0   0   0   0   0   0   0   6   0 102 204 176 134\n",
            "  144 123  23   0   0   0   0  12  10   0]\n",
            " [  0   0   0   0   0   0   0   0   0   0   0   0   0   0 155 236 207 178\n",
            "  107 156 161 109  64  23  77 130  72  15]\n",
            " [  0   0   0   0   0   0   0   0   0   0   0   1   0  69 207 223 218 216\n",
            "  216 163 127 121 122 146 141  88 172  66]\n",
            " [  0   0   0   0   0   0   0   0   0   1   1   1   0 200 232 232 233 229\n",
            "  223 223 215 213 164 127 123 196 229   0]\n",
            " [  0   0   0   0   0   0   0   0   0   0   0   0   0 183 225 216 223 228\n",
            "  235 227 224 222 224 221 223 245 173   0]\n",
            " [  0   0   0   0   0   0   0   0   0   0   0   0   0 193 228 218 213 198\n",
            "  180 212 210 211 213 223 220 243 202   0]\n",
            " [  0   0   0   0   0   0   0   0   0   1   3   0  12 219 220 212 218 192\n",
            "  169 227 208 218 224 212 226 197 209  52]\n",
            " [  0   0   0   0   0   0   0   0   0   0   6   0  99 244 222 220 218 203\n",
            "  198 221 215 213 222 220 245 119 167  56]\n",
            " [  0   0   0   0   0   0   0   0   0   4   0   0  55 236 228 230 228 240\n",
            "  232 213 218 223 234 217 217 209  92   0]\n",
            " [  0   0   1   4   6   7   2   0   0   0   0   0 237 226 217 223 222 219\n",
            "  222 221 216 223 229 215 218 255  77   0]\n",
            " [  0   3   0   0   0   0   0   0   0  62 145 204 228 207 213 221 218 208\n",
            "  211 218 224 223 219 215 224 244 159   0]\n",
            " [  0   0   0   0  18  44  82 107 189 228 220 222 217 226 200 205 211 230\n",
            "  224 234 176 188 250 248 233 238 215   0]\n",
            " [  0  57 187 208 224 221 224 208 204 214 208 209 200 159 245 193 206 223\n",
            "  255 255 221 234 221 211 220 232 246   0]\n",
            " [  3 202 228 224 221 211 211 214 205 205 205 220 240  80 150 255 229 221\n",
            "  188 154 191 210 204 209 222 228 225   0]\n",
            " [ 98 233 198 210 222 229 229 234 249 220 194 215 217 241  65  73 106 117\n",
            "  168 219 221 215 217 223 223 224 229  29]\n",
            " [ 75 204 212 204 193 205 211 225 216 185 197 206 198 213 240 195 227 245\n",
            "  239 223 218 212 209 222 220 221 230  67]\n",
            " [ 48 203 183 194 213 197 185 190 194 192 202 214 219 221 220 236 225 216\n",
            "  199 206 186 181 177 172 181 205 206 115]\n",
            " [  0 122 219 193 179 171 183 196 204 210 213 207 211 210 200 196 194 191\n",
            "  195 191 198 192 176 156 167 177 210  92]\n",
            " [  0   0  74 189 212 191 175 172 175 181 185 188 189 188 193 198 204 209\n",
            "  210 210 211 188 188 194 192 216 170   0]\n",
            " [  2   0   0   0  66 200 222 237 239 242 246 243 244 221 220 193 191 179\n",
            "  182 182 181 176 166 168  99  58   0   0]\n",
            " [  0   0   0   0   0   0   0  40  61  44  72  41  35   0   0   0   0   0\n",
            "    0   0   0   0   0   0   0   0   0   0]\n",
            " [  0   0   0   0   0   0   0   0   0   0   0   0   0   0   0   0   0   0\n",
            "    0   0   0   0   0   0   0   0   0   0]\n",
            " [  0   0   0   0   0   0   0   0   0   0   0   0   0   0   0   0   0   0\n",
            "    0   0   0   0   0   0   0   0   0   0]]\n"
          ]
        }
      ]
    },
    {
      "cell_type": "markdown",
      "source": [
        "Take first 5000 samples for training and 5000:6000 for validation.\n",
        "Dividin 255.00 will convert integers to double and scale pixel values between [0-1.00]"
      ],
      "metadata": {
        "id": "IGduQzXwkmkF"
      }
    },
    {
      "cell_type": "code",
      "source": [
        "X_valid, X_train = X_train_full[:5000] / 255.0, X_train_full[5000:] / 255.0\n",
        "y_valid, y_train = y_train_full[:5000], y_train_full[5000:]\n",
        "print(X_valid[2013,10])"
      ],
      "metadata": {
        "colab": {
          "base_uri": "https://localhost:8080/"
        },
        "id": "1jFadlJekmTl",
        "outputId": "f44b8290-63a9-40a8-9517-5946e4f9fd57"
      },
      "execution_count": null,
      "outputs": [
        {
          "output_type": "stream",
          "name": "stdout",
          "text": [
            "[0.         0.         0.         0.30588235 0.37647059 0.9254902\n",
            " 0.12941176 0.19215686 0.24313725 0.23921569 0.23921569 0.23921569\n",
            " 0.23137255 0.23137255 0.23921569 0.23137255 0.23137255 0.22745098\n",
            " 0.24313725 0.24313725 0.24313725 0.23921569 0.23921569 0.29411765\n",
            " 0.0627451  0.57647059 0.48627451 0.        ]\n"
          ]
        }
      ]
    },
    {
      "cell_type": "code",
      "source": [
        "class_names = [\"T-shirt/top\", \"Trouser\", \"Pullover\", \"Dress\", \"Coat\",\n",
        "\"Sandal\", \"Shirt\", \"Sneaker\", \"Bag\", \"Ankle boot\"]"
      ],
      "metadata": {
        "id": "izWtqBQAkjFZ"
      },
      "execution_count": null,
      "outputs": []
    },
    {
      "cell_type": "code",
      "source": [
        "class_names[y_train[0]]"
      ],
      "metadata": {
        "colab": {
          "base_uri": "https://localhost:8080/",
          "height": 35
        },
        "id": "a_Y6LRQsklk_",
        "outputId": "1b24bd71-4f99-448f-b9b4-63808a14c923"
      },
      "execution_count": null,
      "outputs": [
        {
          "output_type": "execute_result",
          "data": {
            "application/vnd.google.colaboratory.intrinsic+json": {
              "type": "string"
            },
            "text/plain": [
              "'Coat'"
            ]
          },
          "metadata": {},
          "execution_count": 33
        }
      ]
    },
    {
      "cell_type": "code",
      "source": [
        "model = tf.keras.models.Sequential()\n",
        "model.add(tf.keras.layers.Flatten(input_shape=[28, 28]))\n",
        "model.add(tf.keras.layers.Dense(128, activation=\"relu\"))\n",
        "model.add(tf.keras.layers.Dense(100, activation=\"relu\"))\n",
        "model.add(tf.keras.layers.Dense(10, activation=\"softmax\"))"
      ],
      "metadata": {
        "id": "nfqf3KYfnJQX"
      },
      "execution_count": null,
      "outputs": []
    },
    {
      "cell_type": "code",
      "source": [
        "model.summary()"
      ],
      "metadata": {
        "colab": {
          "base_uri": "https://localhost:8080/"
        },
        "id": "9-JR_fnT4Br7",
        "outputId": "c29c095a-a036-40e6-e97e-fe2f8d1aadff"
      },
      "execution_count": null,
      "outputs": [
        {
          "output_type": "stream",
          "name": "stdout",
          "text": [
            "Model: \"sequential_4\"\n",
            "_________________________________________________________________\n",
            " Layer (type)                Output Shape              Param #   \n",
            "=================================================================\n",
            " flatten_4 (Flatten)         (None, 784)               0         \n",
            "                                                                 \n",
            " dense_10 (Dense)            (None, 128)               100480    \n",
            "                                                                 \n",
            " dense_11 (Dense)            (None, 100)               12900     \n",
            "                                                                 \n",
            " dense_12 (Dense)            (None, 10)                1010      \n",
            "                                                                 \n",
            "=================================================================\n",
            "Total params: 114,390\n",
            "Trainable params: 114,390\n",
            "Non-trainable params: 0\n",
            "_________________________________________________________________\n"
          ]
        }
      ]
    },
    {
      "cell_type": "code",
      "source": [
        "model.layers"
      ],
      "metadata": {
        "colab": {
          "base_uri": "https://localhost:8080/"
        },
        "id": "76lgPJi14llc",
        "outputId": "569b84fd-2d1e-49e7-9d30-8f73d05b9afa"
      },
      "execution_count": null,
      "outputs": [
        {
          "output_type": "execute_result",
          "data": {
            "text/plain": [
              "[<keras.layers.core.flatten.Flatten at 0x7fd230280f50>,\n",
              " <keras.layers.core.dense.Dense at 0x7fd230280a50>,\n",
              " <keras.layers.core.dense.Dense at 0x7fd230265450>,\n",
              " <keras.layers.core.dense.Dense at 0x7fd230266d10>]"
            ]
          },
          "metadata": {},
          "execution_count": 49
        }
      ]
    },
    {
      "cell_type": "code",
      "source": [
        "model.compile(loss=\"sparse_categorical_crossentropy\",\n",
        "optimizer=\"sgd\",\n",
        "metrics=[\"accuracy\"])"
      ],
      "metadata": {
        "id": "hZPCkHfC5MGB"
      },
      "execution_count": null,
      "outputs": []
    },
    {
      "cell_type": "code",
      "source": [
        "history = model.fit(X_train, y_train, epochs=30,\n",
        "... validation_data=(X_valid, y_valid))"
      ],
      "metadata": {
        "colab": {
          "base_uri": "https://localhost:8080/"
        },
        "id": "-sLc3TO95ZLm",
        "outputId": "73fb1792-4e31-437f-988d-7314c49ad477"
      },
      "execution_count": null,
      "outputs": [
        {
          "output_type": "stream",
          "name": "stdout",
          "text": [
            "Epoch 1/30\n",
            "1719/1719 [==============================] - 8s 4ms/step - loss: 0.7717 - accuracy: 0.7463 - val_loss: 0.5122 - val_accuracy: 0.8324\n",
            "Epoch 2/30\n",
            "1719/1719 [==============================] - 6s 4ms/step - loss: 0.5012 - accuracy: 0.8244 - val_loss: 0.4720 - val_accuracy: 0.8380\n",
            "Epoch 3/30\n",
            "1719/1719 [==============================] - 6s 4ms/step - loss: 0.4527 - accuracy: 0.8407 - val_loss: 0.4306 - val_accuracy: 0.8528\n",
            "Epoch 4/30\n",
            "1719/1719 [==============================] - 6s 4ms/step - loss: 0.4260 - accuracy: 0.8494 - val_loss: 0.4105 - val_accuracy: 0.8616\n",
            "Epoch 5/30\n",
            "1719/1719 [==============================] - 6s 4ms/step - loss: 0.4074 - accuracy: 0.8553 - val_loss: 0.4024 - val_accuracy: 0.8610\n",
            "Epoch 6/30\n",
            "1719/1719 [==============================] - 6s 4ms/step - loss: 0.3922 - accuracy: 0.8616 - val_loss: 0.4129 - val_accuracy: 0.8556\n",
            "Epoch 7/30\n",
            "1719/1719 [==============================] - 6s 4ms/step - loss: 0.3784 - accuracy: 0.8662 - val_loss: 0.3687 - val_accuracy: 0.8702\n",
            "Epoch 8/30\n",
            "1719/1719 [==============================] - 6s 4ms/step - loss: 0.3675 - accuracy: 0.8704 - val_loss: 0.3987 - val_accuracy: 0.8640\n",
            "Epoch 9/30\n",
            "1719/1719 [==============================] - 7s 4ms/step - loss: 0.3583 - accuracy: 0.8730 - val_loss: 0.3592 - val_accuracy: 0.8764\n",
            "Epoch 10/30\n",
            "1719/1719 [==============================] - 6s 4ms/step - loss: 0.3502 - accuracy: 0.8754 - val_loss: 0.3591 - val_accuracy: 0.8738\n",
            "Epoch 11/30\n",
            "1719/1719 [==============================] - 6s 4ms/step - loss: 0.3412 - accuracy: 0.8790 - val_loss: 0.3558 - val_accuracy: 0.8772\n",
            "Epoch 12/30\n",
            "1719/1719 [==============================] - 6s 4ms/step - loss: 0.3336 - accuracy: 0.8796 - val_loss: 0.3442 - val_accuracy: 0.8802\n",
            "Epoch 13/30\n",
            "1719/1719 [==============================] - 7s 4ms/step - loss: 0.3271 - accuracy: 0.8819 - val_loss: 0.3427 - val_accuracy: 0.8802\n",
            "Epoch 14/30\n",
            "1719/1719 [==============================] - 7s 4ms/step - loss: 0.3205 - accuracy: 0.8855 - val_loss: 0.3496 - val_accuracy: 0.8742\n",
            "Epoch 15/30\n",
            "1719/1719 [==============================] - 6s 4ms/step - loss: 0.3149 - accuracy: 0.8868 - val_loss: 0.3315 - val_accuracy: 0.8814\n",
            "Epoch 16/30\n",
            "1719/1719 [==============================] - 6s 4ms/step - loss: 0.3084 - accuracy: 0.8889 - val_loss: 0.3281 - val_accuracy: 0.8838\n",
            "Epoch 17/30\n",
            "1719/1719 [==============================] - 6s 4ms/step - loss: 0.3038 - accuracy: 0.8899 - val_loss: 0.3295 - val_accuracy: 0.8804\n",
            "Epoch 18/30\n",
            "1719/1719 [==============================] - 6s 4ms/step - loss: 0.2981 - accuracy: 0.8922 - val_loss: 0.3327 - val_accuracy: 0.8826\n",
            "Epoch 19/30\n",
            "1719/1719 [==============================] - 6s 4ms/step - loss: 0.2938 - accuracy: 0.8945 - val_loss: 0.3301 - val_accuracy: 0.8814\n",
            "Epoch 20/30\n",
            "1719/1719 [==============================] - 6s 4ms/step - loss: 0.2895 - accuracy: 0.8956 - val_loss: 0.3205 - val_accuracy: 0.8844\n",
            "Epoch 21/30\n",
            "1719/1719 [==============================] - 6s 4ms/step - loss: 0.2856 - accuracy: 0.8976 - val_loss: 0.3226 - val_accuracy: 0.8866\n",
            "Epoch 22/30\n",
            "1719/1719 [==============================] - 6s 4ms/step - loss: 0.2805 - accuracy: 0.8995 - val_loss: 0.3425 - val_accuracy: 0.8742\n",
            "Epoch 23/30\n",
            "1719/1719 [==============================] - 6s 4ms/step - loss: 0.2766 - accuracy: 0.8998 - val_loss: 0.3175 - val_accuracy: 0.8836\n",
            "Epoch 24/30\n",
            " 959/1719 [===============>..............] - ETA: 2s - loss: 0.2685 - accuracy: 0.9019"
          ]
        }
      ]
    }
  ]
}